{
  "nbformat": 4,
  "nbformat_minor": 0,
  "metadata": {
    "colab": {
      "name": "Intro to MPI.ipynb",
      "provenance": [],
      "collapsed_sections": []
    },
    "kernelspec": {
      "name": "python3",
      "display_name": "Python 3"
    }
  },
  "cells": [
    {
      "cell_type": "markdown",
      "metadata": {
        "id": "_AtfN3jeH_eT",
        "colab_type": "text"
      },
      "source": [
        "Below we supplied two examples of basic MPI code. There are no official excercises but feel free to whip up some mock data and try out the code provided."
      ]
    },
    {
      "cell_type": "markdown",
      "metadata": {
        "id": "p0CAi82e26Vo",
        "colab_type": "text"
      },
      "source": [
        "**Serial Histogram**\n"
      ]
    },
    {
      "cell_type": "code",
      "metadata": {
        "id": "coqxIVr32ePr",
        "colab_type": "code",
        "colab": {}
      },
      "source": [
        "def serial_histogram(data,binscount):\n",
        "    results=[0]*binscount\n",
        "    mindata=min(data)\n",
        "    maxdata=max(data)\n",
        "    print (mindata,maxdata)\n",
        "    binsize=(maxdata-mindata)/binscount\n",
        "    binlabels=[]\n",
        "    \n",
        "    histogram=[0]*(binscount)\n",
        "    for i in range(0,binscount):\n",
        "        binlabels.append(mindata+(i*(binsize)))\n",
        "    for i in range(0,data.size):\n",
        "        index=((data[i]-mindata)/(maxdata-mindata))*(binscount-1)\n",
        "        \n",
        "        histogram[int(index)]= histogram[int(index)]+1\n",
        "    return binlabels,histogram "
      ],
      "execution_count": 0,
      "outputs": []
    },
    {
      "cell_type": "markdown",
      "metadata": {
        "id": "nmj6YFq8F-wU",
        "colab_type": "text"
      },
      "source": [
        "**An Extended example of MPI**\n",
        "\n",
        "Due to size contraints it was not possible to upload the data cube!"
      ]
    },
    {
      "cell_type": "code",
      "metadata": {
        "id": "gdLhh8US8ry3",
        "colab_type": "code",
        "colab": {}
      },
      "source": [
        "from mpi4py import MPI\n",
        "import numpy\n",
        "import math\n",
        "\n",
        "\n",
        "def Calculate_Star_End_Channels(FullDataCube,psize,currentprank):\n",
        "    ZDim=FullDataCube.shape[0]\n",
        "    NumerofChannels=math.ceil(ZDim/float(psize))\n",
        "    StartChannel=min(int((currentprank/float(psize))*ZDim),ZDim) \n",
        "    EndChannel=min(int(((currentprank+1)/float(psize))*ZDim),ZDim) \n",
        "    print (\"%d: from %d to %d\\n\" % (currentprank,StartChannel,EndChannel))\n",
        "    return StartChannel,EndChannel\n",
        "    \n",
        "\n",
        "def GetLocalDataCube(FilePath,psize,currentprank):\n",
        "    hdulist = fits.open(FilePath)\n",
        "    ## Convert it to 3D data only\n",
        "    datacube=hdulist[0].data.squeeze()\n",
        "    ## Get How many spectral channels\n",
        "    StartChannel,EndChannel=Calculate_Star_End_Channels(datacube,mpi_size,mpi_rank)    \n",
        "    LocalDataCube=datacube[StartChannel:EndChannel,:,:].ravel()    \n",
        "    return LocalDataCube\n",
        "\n",
        "def CalculateBinLabels(bin_count,bin_Size):\n",
        "    binlabels=[]\n",
        "    for i in range(0,bin_count):\n",
        "        binlabels.append(global_min+(i*(bin_Size)))\n",
        "    return binlabels\n",
        "\n",
        "def CalculateLocalHist(LocalDataCube,global_min,global_max,bins_count):\n",
        "   histogram=[0]*(binscount)\n",
        "   for i in range(0,LocalDataCube.size):\n",
        "       index=((LocalDataCube[i]-global_min)/(global_max-global_min))*(bins_count-1)        \n",
        "       histogram[int(index)]= histogram[int(index)]+1\n",
        "   return histogram\n",
        "    \n",
        "\n",
        "mpi_comm = MPI.COMM_WORLD\n",
        "mpi_rank = mpi_comm.Get_rank()\n",
        "mpi_size = mpi_comm.Get_size()\n",
        "\n",
        "\n",
        "\n",
        "LocalDataCube=GetLocalDataCube('/data/fig7.fits',mpi_size,mpi_rank)\n",
        "\n",
        "## Calculate Local Min and Local Max\n",
        "localmin=min(LocalDataCube)\n",
        "localmax=max(LocalDataCube)\n",
        "\n",
        "## Get the global Min and Max\n",
        "global_min=mpi_comm.reduce(localmin,op=MPI.MIN,root=0)\n",
        "global_max=mpi_comm.reduce(localmax,op=MPI.MAX,root=0)\n",
        "\n",
        "## Send the Global Min and Max to all Ranks --- You will need it \n",
        "global_min=mpi_comm.bcast(global_min,root=0)\n",
        "global_max=mpi_comm.bcast(global_max,root=0)\n",
        "\n",
        "\n",
        "binscount=10\n",
        "binsize=(global_max-global_min)/binscount\n",
        "\n",
        "    \n",
        "\n",
        "if mpi_rank==0:    \n",
        "    print CalculateBinLabels(binscount,binsize)\n",
        "    \n",
        "    \n",
        "histogram=CalculateLocalHist(LocalDataCube,global_min,global_max,binscount)\n",
        "\n",
        "if mpi_rank ==0:\n",
        "    for j in range(1,mpi_size):\n",
        "        Recv_histogram = mpi_comm.recv(source=MPI.ANY_SOURCE, tag=1)\n",
        "        for i in range(0,binscount):\n",
        "            histogram[i]=histogram[i]+ Recv_histogram[i] \n",
        "    print (histogram)\n",
        "else:\n",
        "    mpi_comm.send(histogram,dest=0,tag=1)\n",
        "    "
      ],
      "execution_count": 0,
      "outputs": []
    }
  ]
}